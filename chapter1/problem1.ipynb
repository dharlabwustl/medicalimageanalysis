{
  "cells": [
    {
      "cell_type": "code",
      "metadata": {},
      "source": [
        "# Install any necessary libraries (optional)\n",
        "# Uncomment and modify as needed\n",
        "# !pip install numpy matplotlib\n\n",
        "# Download the problem solution from GitHub\n",
        "!wget -O problem.py https://raw.githubusercontent.com/dharlabwustl/medicalimageanalysis/master/chapter1/problem1.py\n\n",
        "# Execute the solution\n",
        "%run problem.py\n"
      ]
    }
  ],
  "metadata": {
    "colab": {
      "name": "chapter1_problem1.ipynb",
      "provenance": []
    },
    "kernelspec": {
      "display_name": "Python 3",
      "language": "python",
      "name": "python3"
    }
  },
  "nbformat": 4,
  "nbformat_minor": 0
}