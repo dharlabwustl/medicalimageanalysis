{
  "cells": [
    {
      "cell_type": "code",
      "metadata": {},
      "source": [
        "# Install any necessary libraries (optional)\n",
        "# Uncomment and modify as needed\n",
        "# !pip install numpy matplotlib\n\n",
        "# Download the problem solution from GitHub\n",
        "!wget -O problem.py https://raw.githubusercontent.com/dharlabwustl/medicalimageanalysis/master/chapter1/vector_case_example.py\n\n",
        "# Execute the solution\n",
        "%run problem.py\n"
      ]
    }
  ],
  "metadata": {
    "colab": {
      "name": "chapter1_vector_case_example.ipynb",
      "provenance": []
    },
    "kernelspec": {
      "display_name": "Python 3",
      "language": "python",
      "name": "python3"
    }
  },
  "nbformat": 4,
  "nbformat_minor": 0
}